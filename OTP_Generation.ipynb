{
 "cells": [
  {
   "cell_type": "code",
   "execution_count": 1,
   "id": "e70f3adf",
   "metadata": {},
   "outputs": [],
   "source": [
    "import random as r"
   ]
  },
  {
   "cell_type": "code",
   "execution_count": 2,
   "id": "b0d29830",
   "metadata": {},
   "outputs": [
    {
     "name": "stdout",
     "output_type": "stream",
     "text": [
      "Your One Time Password is \n",
      "22157\n"
     ]
    }
   ],
   "source": [
    "# function for otp generation using otp as string\n",
    "def otpgen(): \n",
    "    otp = \"\"\n",
    "    for i in range(5):\n",
    "        otp += str(r.randint(0,8))\n",
    "    print (\"Your One Time Password is \")\n",
    "    print (otp)\n",
    "otpgen()"
   ]
  },
  {
   "cell_type": "code",
   "execution_count": 3,
   "id": "7875de07",
   "metadata": {},
   "outputs": [
    {
     "name": "stdout",
     "output_type": "stream",
     "text": [
      "Your One Time Password is \n",
      "262\n"
     ]
    }
   ],
   "source": [
    "# function for otp generation using otp as number\n",
    "def otpgen(): \n",
    "    otp = 0\n",
    "    for i in range(5):\n",
    "        otp += r.randint(10,89)\n",
    "    print (\"Your One Time Password is \")\n",
    "    print (otp)\n",
    "otpgen()"
   ]
  }
 ],
 "metadata": {
  "kernelspec": {
   "display_name": "Python 3 (ipykernel)",
   "language": "python",
   "name": "python3"
  },
  "language_info": {
   "codemirror_mode": {
    "name": "ipython",
    "version": 3
   },
   "file_extension": ".py",
   "mimetype": "text/x-python",
   "name": "python",
   "nbconvert_exporter": "python",
   "pygments_lexer": "ipython3",
   "version": "3.11.5"
  }
 },
 "nbformat": 4,
 "nbformat_minor": 5
}
