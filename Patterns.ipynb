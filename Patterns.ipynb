{
 "cells": [
  {
   "cell_type": "code",
   "execution_count": 1,
   "id": "8969aac7",
   "metadata": {},
   "outputs": [
    {
     "name": "stdout",
     "output_type": "stream",
     "text": [
      "5\n",
      "* \n",
      "* * \n",
      "* * * \n",
      "* * * * \n",
      "* * * * * \n"
     ]
    }
   ],
   "source": [
    "n = int(input())\n",
    "for i in range(0,n):\n",
    "    for j in range(0,i+1):\n",
    "        print('*',end =\" \")\n",
    "    print()"
   ]
  },
  {
   "cell_type": "code",
   "execution_count": 2,
   "id": "52872749",
   "metadata": {},
   "outputs": [
    {
     "name": "stdout",
     "output_type": "stream",
     "text": [
      "6\n",
      "* \n",
      "* * \n",
      "* * * \n",
      "* * * * \n",
      "* * * * * \n",
      "* * * * * * \n"
     ]
    }
   ],
   "source": [
    "n = int(input())\n",
    "for i in range(1,n+1):\n",
    "    print('* '*i)"
   ]
  },
  {
   "cell_type": "markdown",
   "id": "54e803f6",
   "metadata": {},
   "source": [
    "# odd number of stars"
   ]
  },
  {
   "cell_type": "code",
   "execution_count": 3,
   "id": "0a7951e2",
   "metadata": {},
   "outputs": [
    {
     "name": "stdout",
     "output_type": "stream",
     "text": [
      "7\n",
      "* \n",
      "* * * \n",
      "* * * * * \n",
      "* * * * * * * \n",
      "* * * * * * * * * \n",
      "* * * * * * * * * * * \n",
      "* * * * * * * * * * * * * \n"
     ]
    }
   ],
   "source": [
    "n = int(input())\n",
    "k = 1\n",
    "for i in range(0,n):\n",
    "    for j in range(0,k):\n",
    "        print('*',end= \" \")\n",
    "    k+=2\n",
    "    print()"
   ]
  },
  {
   "cell_type": "markdown",
   "id": "721a5f6e",
   "metadata": {},
   "source": [
    "# even number of stars\n"
   ]
  },
  {
   "cell_type": "code",
   "execution_count": 4,
   "id": "e6a88b5d",
   "metadata": {},
   "outputs": [
    {
     "name": "stdout",
     "output_type": "stream",
     "text": [
      "5\n",
      "\n",
      "* * \n",
      "* * * * \n",
      "* * * * * * \n",
      "* * * * * * * * \n"
     ]
    }
   ],
   "source": [
    "n = int(input())\n",
    "k = 0\n",
    "for i in range(0,n):\n",
    "    for j in range(1,k+1):\n",
    "        print('*',end= \" \")\n",
    "    k+=2\n",
    "    print()"
   ]
  },
  {
   "cell_type": "markdown",
   "id": "2e319364",
   "metadata": {},
   "source": [
    "# Triangle"
   ]
  },
  {
   "cell_type": "code",
   "execution_count": 5,
   "id": "4e0576d7",
   "metadata": {},
   "outputs": [
    {
     "name": "stdout",
     "output_type": "stream",
     "text": [
      "4\n",
      "   * \n",
      "  * * \n",
      " * * * \n",
      "* * * * \n"
     ]
    }
   ],
   "source": [
    "n = int(input())\n",
    "for i in range(0,n):\n",
    "    for j in range(0,n-i-1):\n",
    "        print(end=\" \")\n",
    "    for p in range(0,i+1):\n",
    "        print('*',end = \" \")\n",
    "    print()"
   ]
  },
  {
   "cell_type": "code",
   "execution_count": 6,
   "id": "62eabe23",
   "metadata": {},
   "outputs": [],
   "source": [
    "def r(rows):\n",
    "    for i in range(rows):\n",
    "        print(' '*(rows-i-1)+'* '*(i+1))"
   ]
  },
  {
   "cell_type": "code",
   "execution_count": 7,
   "id": "ec3afa57",
   "metadata": {},
   "outputs": [
    {
     "name": "stdout",
     "output_type": "stream",
     "text": [
      "    * \n",
      "   * * \n",
      "  * * * \n",
      " * * * * \n",
      "* * * * * \n"
     ]
    }
   ],
   "source": [
    "r(5)"
   ]
  },
  {
   "cell_type": "code",
   "execution_count": 8,
   "id": "86854054",
   "metadata": {},
   "outputs": [
    {
     "name": "stdout",
     "output_type": "stream",
     "text": [
      "4\n",
      "   *\n",
      "  ***\n",
      " *****\n",
      "*******\n"
     ]
    }
   ],
   "source": [
    "n = int(input())\n",
    "for i in range(0,n):\n",
    "    for j in range(0,n-i-1):\n",
    "        print(end=\" \")\n",
    "    for p in range(0,2*i+1):\n",
    "        print('*',end = \"\")\n",
    "    print()"
   ]
  },
  {
   "cell_type": "code",
   "execution_count": 9,
   "id": "0b41f141",
   "metadata": {},
   "outputs": [],
   "source": [
    "def r(rows):\n",
    "    for i in range(rows):\n",
    "        print(' '*(rows-i-1)+'*'*(2*i+1))"
   ]
  },
  {
   "cell_type": "code",
   "execution_count": 10,
   "id": "ed18a3ec",
   "metadata": {},
   "outputs": [
    {
     "name": "stdout",
     "output_type": "stream",
     "text": [
      "  *\n",
      " ***\n",
      "*****\n"
     ]
    }
   ],
   "source": [
    "r(3)"
   ]
  },
  {
   "cell_type": "code",
   "execution_count": 11,
   "id": "f045b19c",
   "metadata": {},
   "outputs": [
    {
     "name": "stdout",
     "output_type": "stream",
     "text": [
      "5\n",
      "* * * * * \n",
      " * * * * \n",
      "  * * * \n",
      "   * * \n",
      "    * \n"
     ]
    }
   ],
   "source": [
    "n = int(input())\n",
    "for i in range(n,0,-1):\n",
    "    for j in range(0,n-i):\n",
    "        print(end=\" \")\n",
    "    for p in range(0,i):\n",
    "        print('*',end = \" \")\n",
    "    print()"
   ]
  },
  {
   "cell_type": "code",
   "execution_count": 12,
   "id": "920ecf59",
   "metadata": {},
   "outputs": [],
   "source": [
    "def r(rows):\n",
    "    for i in range(rows,0,-1):\n",
    "        print(' '*(rows-i)+'* '*(i))"
   ]
  },
  {
   "cell_type": "code",
   "execution_count": 13,
   "id": "95b05e35",
   "metadata": {},
   "outputs": [
    {
     "name": "stdout",
     "output_type": "stream",
     "text": [
      "* * * * \n",
      " * * * \n",
      "  * * \n",
      "   * \n"
     ]
    }
   ],
   "source": [
    "r(4)"
   ]
  },
  {
   "cell_type": "markdown",
   "id": "dffcc207",
   "metadata": {},
   "source": [
    "# Dimond"
   ]
  },
  {
   "cell_type": "code",
   "execution_count": 14,
   "id": "59cabaf8",
   "metadata": {},
   "outputs": [],
   "source": [
    "def p(rows):\n",
    "    for i in range(rows):\n",
    "        print(' '*(rows-i-1)+'* '*(i+1))\n",
    "    for j in range(rows-1,0,-1):\n",
    "        print(' '*(rows-j)+'* '*(j))"
   ]
  },
  {
   "cell_type": "code",
   "execution_count": 15,
   "id": "2fb50e39",
   "metadata": {},
   "outputs": [
    {
     "name": "stdout",
     "output_type": "stream",
     "text": [
      "  * \n",
      " * * \n",
      "* * * \n",
      " * * \n",
      "  * \n"
     ]
    }
   ],
   "source": [
    "p(3)"
   ]
  },
  {
   "cell_type": "code",
   "execution_count": null,
   "id": "d8d8fc7d",
   "metadata": {},
   "outputs": [],
   "source": []
  }
 ],
 "metadata": {
  "kernelspec": {
   "display_name": "Python 3 (ipykernel)",
   "language": "python",
   "name": "python3"
  },
  "language_info": {
   "codemirror_mode": {
    "name": "ipython",
    "version": 3
   },
   "file_extension": ".py",
   "mimetype": "text/x-python",
   "name": "python",
   "nbconvert_exporter": "python",
   "pygments_lexer": "ipython3",
   "version": "3.11.5"
  }
 },
 "nbformat": 4,
 "nbformat_minor": 5
}
