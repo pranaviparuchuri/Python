{
 "cells": [
  {
   "cell_type": "code",
   "execution_count": 2,
   "id": "c7edc8c1",
   "metadata": {},
   "outputs": [
    {
     "name": "stdout",
     "output_type": "stream",
     "text": [
      "Collecting qrcode[pil]\n",
      "  Obtaining dependency information for qrcode[pil] from https://files.pythonhosted.org/packages/24/79/aaf0c1c7214f2632badb2771d770b1500d3d7cbdf2590ae62e721ec50584/qrcode-7.4.2-py3-none-any.whl.metadata\n",
      "  Downloading qrcode-7.4.2-py3-none-any.whl.metadata (17 kB)\n",
      "Requirement already satisfied: typing-extensions in c:\\users\\paruc\\anaconda3\\lib\\site-packages (from qrcode[pil]) (4.7.1)\n",
      "Collecting pypng (from qrcode[pil])\n",
      "  Obtaining dependency information for pypng from https://files.pythonhosted.org/packages/3e/b9/3766cc361d93edb2ce81e2e1f87dd98f314d7d513877a342d31b30741680/pypng-0.20220715.0-py3-none-any.whl.metadata\n",
      "  Downloading pypng-0.20220715.0-py3-none-any.whl.metadata (13 kB)\n",
      "Requirement already satisfied: colorama in c:\\users\\paruc\\anaconda3\\lib\\site-packages (from qrcode[pil]) (0.4.6)\n",
      "Requirement already satisfied: pillow>=9.1.0 in c:\\users\\paruc\\anaconda3\\lib\\site-packages (from qrcode[pil]) (10.2.0)\n",
      "Downloading pypng-0.20220715.0-py3-none-any.whl (58 kB)\n",
      "   ---------------------------------------- 0.0/58.1 kB ? eta -:--:--\n",
      "   ------- -------------------------------- 10.2/58.1 kB ? eta -:--:--\n",
      "   --------------------- ------------------ 30.7/58.1 kB 262.6 kB/s eta 0:00:01\n",
      "   --------------------- ------------------ 30.7/58.1 kB 262.6 kB/s eta 0:00:01\n",
      "   ---------------------------------------- 58.1/58.1 kB 306.5 kB/s eta 0:00:00\n",
      "Downloading qrcode-7.4.2-py3-none-any.whl (46 kB)\n",
      "   ---------------------------------------- 0.0/46.2 kB ? eta -:--:--\n",
      "   -------------------------- ------------- 30.7/46.2 kB 660.6 kB/s eta 0:00:01\n",
      "   ---------------------------------------- 46.2/46.2 kB 461.0 kB/s eta 0:00:00\n",
      "Installing collected packages: pypng, qrcode\n",
      "Successfully installed pypng-0.20220715.0 qrcode-7.4.2\n",
      "Note: you may need to restart the kernel to use updated packages.\n"
     ]
    }
   ],
   "source": [
    "#pip install qrcode[pil]"
   ]
  },
  {
   "cell_type": "code",
   "execution_count": 1,
   "id": "6f02049c",
   "metadata": {},
   "outputs": [],
   "source": [
    "import qrcode as qr"
   ]
  },
  {
   "cell_type": "code",
   "execution_count": 2,
   "id": "86b02438",
   "metadata": {},
   "outputs": [],
   "source": [
    "img = qr.make('https://roadmap.sh/ai-data-scientist')\n",
    "img.save('ds_roadmap.png')"
   ]
  },
  {
   "cell_type": "code",
   "execution_count": 3,
   "id": "d43737b0",
   "metadata": {},
   "outputs": [],
   "source": [
    "#Customise"
   ]
  },
  {
   "cell_type": "code",
   "execution_count": 4,
   "id": "417a1559",
   "metadata": {},
   "outputs": [],
   "source": [
    "import qrcode\n",
    "from PIL import Image\n",
    "\n",
    "# Create a QRCode instance\n",
    "qr = qrcode.QRCode(\n",
    "    version=1,\n",
    "    error_correction=qrcode.constants.ERROR_CORRECT_H,\n",
    "    box_size=10,\n",
    "    border=4\n",
    ")\n",
    "\n",
    "# Add data to the QRCode\n",
    "qr.add_data('https://roadmap.sh/ai-data-scientist')\n",
    "qr.make(fit=True)\n",
    "\n",
    "# Create an image from the QRCode\n",
    "img = qr.make_image(fill_color='red', back_color='white')\n",
    "\n",
    "# Save the image\n",
    "img.save('roadmap.png')"
   ]
  },
  {
   "cell_type": "code",
   "execution_count": null,
   "id": "8e930bd0",
   "metadata": {},
   "outputs": [],
   "source": []
  }
 ],
 "metadata": {
  "kernelspec": {
   "display_name": "Python 3 (ipykernel)",
   "language": "python",
   "name": "python3"
  },
  "language_info": {
   "codemirror_mode": {
    "name": "ipython",
    "version": 3
   },
   "file_extension": ".py",
   "mimetype": "text/x-python",
   "name": "python",
   "nbconvert_exporter": "python",
   "pygments_lexer": "ipython3",
   "version": "3.11.5"
  }
 },
 "nbformat": 4,
 "nbformat_minor": 5
}
